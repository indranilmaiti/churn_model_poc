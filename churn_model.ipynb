{
  "nbformat": 4,
  "nbformat_minor": 0,
  "metadata": {
    "colab": {
      "name": "churn_model.ipynb",
      "provenance": [],
      "collapsed_sections": [
        "iu8o69e4jMZJ",
        "o0Rg5z6UjWsI"
      ]
    },
    "kernelspec": {
      "name": "python3",
      "display_name": "Python 3"
    },
    "accelerator": "GPU"
  },
  "cells": [
    {
      "cell_type": "code",
      "metadata": {
        "id": "xyLI7RRV1otA",
        "colab_type": "code",
        "colab": {
          "base_uri": "https://localhost:8080/",
          "height": 34
        },
        "outputId": "b0dd4caf-a642-4887-a650-a358241d6414"
      },
      "source": [
        "%tensorflow_version 2.x\n",
        "import tensorflow as tf\n",
        "print(tf.__version__)"
      ],
      "execution_count": 30,
      "outputs": [
        {
          "output_type": "stream",
          "text": [
            "2.2.0\n"
          ],
          "name": "stdout"
        }
      ]
    },
    {
      "cell_type": "code",
      "metadata": {
        "id": "hc1pU-aejCve",
        "colab_type": "code",
        "colab": {}
      },
      "source": [
        "import numpy as np\n",
        "from matplotlib import pyplot as plt\n",
        " \n",
        "import keras\n",
        "from keras.models import Sequential\n",
        "from keras.layers import InputLayer\n",
        "from keras.layers import Dense\n",
        "from keras.layers import Dropout\n",
        "from keras.constraints import maxnorm"
      ],
      "execution_count": 31,
      "outputs": []
    },
    {
      "cell_type": "markdown",
      "metadata": {
        "id": "gVpOpaT6ijX3",
        "colab_type": "text"
      },
      "source": [
        "# Import Data"
      ]
    },
    {
      "cell_type": "code",
      "metadata": {
        "id": "1OivJ3ki0Y_v",
        "colab_type": "code",
        "colab": {}
      },
      "source": [
        "import pandas as pd"
      ],
      "execution_count": 32,
      "outputs": []
    },
    {
      "cell_type": "code",
      "metadata": {
        "id": "newt6KJ2ifPM",
        "colab_type": "code",
        "colab": {}
      },
      "source": [
        "data = pd.read_csv('churn_data_IBM.csv')"
      ],
      "execution_count": 33,
      "outputs": []
    },
    {
      "cell_type": "code",
      "metadata": {
        "id": "cP16Iblf1tDU",
        "colab_type": "code",
        "colab": {
          "base_uri": "https://localhost:8080/",
          "height": 309
        },
        "outputId": "7d611f1c-3ce6-4524-ae26-403ac4cb77a6"
      },
      "source": [
        "data.head(5)"
      ],
      "execution_count": 34,
      "outputs": [
        {
          "output_type": "execute_result",
          "data": {
            "text/html": [
              "<div>\n",
              "<style scoped>\n",
              "    .dataframe tbody tr th:only-of-type {\n",
              "        vertical-align: middle;\n",
              "    }\n",
              "\n",
              "    .dataframe tbody tr th {\n",
              "        vertical-align: top;\n",
              "    }\n",
              "\n",
              "    .dataframe thead th {\n",
              "        text-align: right;\n",
              "    }\n",
              "</style>\n",
              "<table border=\"1\" class=\"dataframe\">\n",
              "  <thead>\n",
              "    <tr style=\"text-align: right;\">\n",
              "      <th></th>\n",
              "      <th>customerID</th>\n",
              "      <th>gender</th>\n",
              "      <th>SeniorCitizen</th>\n",
              "      <th>Partner</th>\n",
              "      <th>Dependents</th>\n",
              "      <th>tenure</th>\n",
              "      <th>PhoneService</th>\n",
              "      <th>MultipleLines</th>\n",
              "      <th>InternetService</th>\n",
              "      <th>OnlineSecurity</th>\n",
              "      <th>OnlineBackup</th>\n",
              "      <th>DeviceProtection</th>\n",
              "      <th>TechSupport</th>\n",
              "      <th>StreamingTV</th>\n",
              "      <th>StreamingMovies</th>\n",
              "      <th>Contract</th>\n",
              "      <th>PaperlessBilling</th>\n",
              "      <th>PaymentMethod</th>\n",
              "      <th>MonthlyCharges</th>\n",
              "      <th>TotalCharges</th>\n",
              "      <th>Churn</th>\n",
              "    </tr>\n",
              "  </thead>\n",
              "  <tbody>\n",
              "    <tr>\n",
              "      <th>0</th>\n",
              "      <td>7590-VHVEG</td>\n",
              "      <td>Female</td>\n",
              "      <td>0</td>\n",
              "      <td>Yes</td>\n",
              "      <td>No</td>\n",
              "      <td>1</td>\n",
              "      <td>No</td>\n",
              "      <td>No phone service</td>\n",
              "      <td>DSL</td>\n",
              "      <td>No</td>\n",
              "      <td>Yes</td>\n",
              "      <td>No</td>\n",
              "      <td>No</td>\n",
              "      <td>No</td>\n",
              "      <td>No</td>\n",
              "      <td>Month-to-month</td>\n",
              "      <td>Yes</td>\n",
              "      <td>Electronic check</td>\n",
              "      <td>29.85</td>\n",
              "      <td>29.85</td>\n",
              "      <td>No</td>\n",
              "    </tr>\n",
              "    <tr>\n",
              "      <th>1</th>\n",
              "      <td>5575-GNVDE</td>\n",
              "      <td>Male</td>\n",
              "      <td>0</td>\n",
              "      <td>No</td>\n",
              "      <td>No</td>\n",
              "      <td>34</td>\n",
              "      <td>Yes</td>\n",
              "      <td>No</td>\n",
              "      <td>DSL</td>\n",
              "      <td>Yes</td>\n",
              "      <td>No</td>\n",
              "      <td>Yes</td>\n",
              "      <td>No</td>\n",
              "      <td>No</td>\n",
              "      <td>No</td>\n",
              "      <td>One year</td>\n",
              "      <td>No</td>\n",
              "      <td>Mailed check</td>\n",
              "      <td>56.95</td>\n",
              "      <td>1889.5</td>\n",
              "      <td>No</td>\n",
              "    </tr>\n",
              "    <tr>\n",
              "      <th>2</th>\n",
              "      <td>3668-QPYBK</td>\n",
              "      <td>Male</td>\n",
              "      <td>0</td>\n",
              "      <td>No</td>\n",
              "      <td>No</td>\n",
              "      <td>2</td>\n",
              "      <td>Yes</td>\n",
              "      <td>No</td>\n",
              "      <td>DSL</td>\n",
              "      <td>Yes</td>\n",
              "      <td>Yes</td>\n",
              "      <td>No</td>\n",
              "      <td>No</td>\n",
              "      <td>No</td>\n",
              "      <td>No</td>\n",
              "      <td>Month-to-month</td>\n",
              "      <td>Yes</td>\n",
              "      <td>Mailed check</td>\n",
              "      <td>53.85</td>\n",
              "      <td>108.15</td>\n",
              "      <td>Yes</td>\n",
              "    </tr>\n",
              "    <tr>\n",
              "      <th>3</th>\n",
              "      <td>7795-CFOCW</td>\n",
              "      <td>Male</td>\n",
              "      <td>0</td>\n",
              "      <td>No</td>\n",
              "      <td>No</td>\n",
              "      <td>45</td>\n",
              "      <td>No</td>\n",
              "      <td>No phone service</td>\n",
              "      <td>DSL</td>\n",
              "      <td>Yes</td>\n",
              "      <td>No</td>\n",
              "      <td>Yes</td>\n",
              "      <td>Yes</td>\n",
              "      <td>No</td>\n",
              "      <td>No</td>\n",
              "      <td>One year</td>\n",
              "      <td>No</td>\n",
              "      <td>Bank transfer (automatic)</td>\n",
              "      <td>42.30</td>\n",
              "      <td>1840.75</td>\n",
              "      <td>No</td>\n",
              "    </tr>\n",
              "    <tr>\n",
              "      <th>4</th>\n",
              "      <td>9237-HQITU</td>\n",
              "      <td>Female</td>\n",
              "      <td>0</td>\n",
              "      <td>No</td>\n",
              "      <td>No</td>\n",
              "      <td>2</td>\n",
              "      <td>Yes</td>\n",
              "      <td>No</td>\n",
              "      <td>Fiber optic</td>\n",
              "      <td>No</td>\n",
              "      <td>No</td>\n",
              "      <td>No</td>\n",
              "      <td>No</td>\n",
              "      <td>No</td>\n",
              "      <td>No</td>\n",
              "      <td>Month-to-month</td>\n",
              "      <td>Yes</td>\n",
              "      <td>Electronic check</td>\n",
              "      <td>70.70</td>\n",
              "      <td>151.65</td>\n",
              "      <td>Yes</td>\n",
              "    </tr>\n",
              "  </tbody>\n",
              "</table>\n",
              "</div>"
            ],
            "text/plain": [
              "   customerID  gender  SeniorCitizen  ... MonthlyCharges TotalCharges  Churn\n",
              "0  7590-VHVEG  Female              0  ...          29.85        29.85     No\n",
              "1  5575-GNVDE    Male              0  ...          56.95       1889.5     No\n",
              "2  3668-QPYBK    Male              0  ...          53.85       108.15    Yes\n",
              "3  7795-CFOCW    Male              0  ...          42.30      1840.75     No\n",
              "4  9237-HQITU  Female              0  ...          70.70       151.65    Yes\n",
              "\n",
              "[5 rows x 21 columns]"
            ]
          },
          "metadata": {
            "tags": []
          },
          "execution_count": 34
        }
      ]
    },
    {
      "cell_type": "code",
      "metadata": {
        "id": "lN26xpdo3ZKh",
        "colab_type": "code",
        "colab": {
          "base_uri": "https://localhost:8080/",
          "height": 119
        },
        "outputId": "979d73df-12cb-4f65-ec28-a8658d53ef0b"
      },
      "source": [
        "data.columns"
      ],
      "execution_count": 35,
      "outputs": [
        {
          "output_type": "execute_result",
          "data": {
            "text/plain": [
              "Index(['customerID', 'gender', 'SeniorCitizen', 'Partner', 'Dependents',\n",
              "       'tenure', 'PhoneService', 'MultipleLines', 'InternetService',\n",
              "       'OnlineSecurity', 'OnlineBackup', 'DeviceProtection', 'TechSupport',\n",
              "       'StreamingTV', 'StreamingMovies', 'Contract', 'PaperlessBilling',\n",
              "       'PaymentMethod', 'MonthlyCharges', 'TotalCharges', 'Churn'],\n",
              "      dtype='object')"
            ]
          },
          "metadata": {
            "tags": []
          },
          "execution_count": 35
        }
      ]
    },
    {
      "cell_type": "code",
      "metadata": {
        "id": "DCYELw2M3ebI",
        "colab_type": "code",
        "colab": {
          "base_uri": "https://localhost:8080/",
          "height": 391
        },
        "outputId": "b4a9791f-e429-4a1e-9653-d8730c008aa9"
      },
      "source": [
        "data.dtypes"
      ],
      "execution_count": 36,
      "outputs": [
        {
          "output_type": "execute_result",
          "data": {
            "text/plain": [
              "customerID           object\n",
              "gender               object\n",
              "SeniorCitizen         int64\n",
              "Partner              object\n",
              "Dependents           object\n",
              "tenure                int64\n",
              "PhoneService         object\n",
              "MultipleLines        object\n",
              "InternetService      object\n",
              "OnlineSecurity       object\n",
              "OnlineBackup         object\n",
              "DeviceProtection     object\n",
              "TechSupport          object\n",
              "StreamingTV          object\n",
              "StreamingMovies      object\n",
              "Contract             object\n",
              "PaperlessBilling     object\n",
              "PaymentMethod        object\n",
              "MonthlyCharges      float64\n",
              "TotalCharges         object\n",
              "Churn                object\n",
              "dtype: object"
            ]
          },
          "metadata": {
            "tags": []
          },
          "execution_count": 36
        }
      ]
    },
    {
      "cell_type": "markdown",
      "metadata": {
        "id": "bvwA18G4iskX",
        "colab_type": "text"
      },
      "source": [
        "# Customize Data"
      ]
    },
    {
      "cell_type": "code",
      "metadata": {
        "id": "1w3yqIdY5eBx",
        "colab_type": "code",
        "colab": {}
      },
      "source": [
        "data.SeniorCitizen.replace([0, 1], [\"No\", \"Yes\"], inplace= True)"
      ],
      "execution_count": 37,
      "outputs": []
    },
    {
      "cell_type": "code",
      "metadata": {
        "id": "MyEo2gjO1aWS",
        "colab_type": "code",
        "colab": {}
      },
      "source": [
        "data.TotalCharges.replace([\" \"], [\"0\"], inplace= True)\n",
        "data.TotalCharges = data.TotalCharges.astype(float)"
      ],
      "execution_count": 38,
      "outputs": []
    },
    {
      "cell_type": "code",
      "metadata": {
        "id": "R58EGQIr5kmH",
        "colab_type": "code",
        "colab": {}
      },
      "source": [
        "data.drop(\"customerID\", axis= 1, inplace= True)"
      ],
      "execution_count": 39,
      "outputs": []
    },
    {
      "cell_type": "code",
      "metadata": {
        "id": "5K9xExJ16VT9",
        "colab_type": "code",
        "colab": {}
      },
      "source": [
        "data.Churn.replace([\"Yes\", \"No\"], [1, 0], inplace= True)"
      ],
      "execution_count": 40,
      "outputs": []
    },
    {
      "cell_type": "markdown",
      "metadata": {
        "id": "yoxwCD21yBc9",
        "colab_type": "text"
      },
      "source": [
        "The get_dummies() function is used to convert categorical variable into dummy/indicator variables.\n",
        "\n",
        "To know more about panda dummies \n",
        "\n",
        "https://towardsdatascience.com/the-dummys-guide-to-creating-dummy-variables-f21faddb1d40"
      ]
    },
    {
      "cell_type": "code",
      "metadata": {
        "id": "n9rarfsn2JJA",
        "colab_type": "code",
        "colab": {}
      },
      "source": [
        "data = pd.get_dummies(data)"
      ],
      "execution_count": 41,
      "outputs": []
    },
    {
      "cell_type": "code",
      "metadata": {
        "id": "PlkesSDVsFxY",
        "colab_type": "code",
        "colab": {
          "base_uri": "https://localhost:8080/",
          "height": 258
        },
        "outputId": "a6c3e762-40a5-4201-80ed-19e63efa4d3f"
      },
      "source": [
        "data.head(5)"
      ],
      "execution_count": 42,
      "outputs": [
        {
          "output_type": "execute_result",
          "data": {
            "text/html": [
              "<div>\n",
              "<style scoped>\n",
              "    .dataframe tbody tr th:only-of-type {\n",
              "        vertical-align: middle;\n",
              "    }\n",
              "\n",
              "    .dataframe tbody tr th {\n",
              "        vertical-align: top;\n",
              "    }\n",
              "\n",
              "    .dataframe thead th {\n",
              "        text-align: right;\n",
              "    }\n",
              "</style>\n",
              "<table border=\"1\" class=\"dataframe\">\n",
              "  <thead>\n",
              "    <tr style=\"text-align: right;\">\n",
              "      <th></th>\n",
              "      <th>tenure</th>\n",
              "      <th>MonthlyCharges</th>\n",
              "      <th>TotalCharges</th>\n",
              "      <th>Churn</th>\n",
              "      <th>gender_Female</th>\n",
              "      <th>gender_Male</th>\n",
              "      <th>SeniorCitizen_No</th>\n",
              "      <th>SeniorCitizen_Yes</th>\n",
              "      <th>Partner_No</th>\n",
              "      <th>Partner_Yes</th>\n",
              "      <th>Dependents_No</th>\n",
              "      <th>Dependents_Yes</th>\n",
              "      <th>PhoneService_No</th>\n",
              "      <th>PhoneService_Yes</th>\n",
              "      <th>MultipleLines_No</th>\n",
              "      <th>MultipleLines_No phone service</th>\n",
              "      <th>MultipleLines_Yes</th>\n",
              "      <th>InternetService_DSL</th>\n",
              "      <th>InternetService_Fiber optic</th>\n",
              "      <th>InternetService_No</th>\n",
              "      <th>OnlineSecurity_No</th>\n",
              "      <th>OnlineSecurity_No internet service</th>\n",
              "      <th>OnlineSecurity_Yes</th>\n",
              "      <th>OnlineBackup_No</th>\n",
              "      <th>OnlineBackup_No internet service</th>\n",
              "      <th>OnlineBackup_Yes</th>\n",
              "      <th>DeviceProtection_No</th>\n",
              "      <th>DeviceProtection_No internet service</th>\n",
              "      <th>DeviceProtection_Yes</th>\n",
              "      <th>TechSupport_No</th>\n",
              "      <th>TechSupport_No internet service</th>\n",
              "      <th>TechSupport_Yes</th>\n",
              "      <th>StreamingTV_No</th>\n",
              "      <th>StreamingTV_No internet service</th>\n",
              "      <th>StreamingTV_Yes</th>\n",
              "      <th>StreamingMovies_No</th>\n",
              "      <th>StreamingMovies_No internet service</th>\n",
              "      <th>StreamingMovies_Yes</th>\n",
              "      <th>Contract_Month-to-month</th>\n",
              "      <th>Contract_One year</th>\n",
              "      <th>Contract_Two year</th>\n",
              "      <th>PaperlessBilling_No</th>\n",
              "      <th>PaperlessBilling_Yes</th>\n",
              "      <th>PaymentMethod_Bank transfer (automatic)</th>\n",
              "      <th>PaymentMethod_Credit card (automatic)</th>\n",
              "      <th>PaymentMethod_Electronic check</th>\n",
              "      <th>PaymentMethod_Mailed check</th>\n",
              "    </tr>\n",
              "  </thead>\n",
              "  <tbody>\n",
              "    <tr>\n",
              "      <th>0</th>\n",
              "      <td>1</td>\n",
              "      <td>29.85</td>\n",
              "      <td>29.85</td>\n",
              "      <td>0</td>\n",
              "      <td>1</td>\n",
              "      <td>0</td>\n",
              "      <td>1</td>\n",
              "      <td>0</td>\n",
              "      <td>0</td>\n",
              "      <td>1</td>\n",
              "      <td>1</td>\n",
              "      <td>0</td>\n",
              "      <td>1</td>\n",
              "      <td>0</td>\n",
              "      <td>0</td>\n",
              "      <td>1</td>\n",
              "      <td>0</td>\n",
              "      <td>1</td>\n",
              "      <td>0</td>\n",
              "      <td>0</td>\n",
              "      <td>1</td>\n",
              "      <td>0</td>\n",
              "      <td>0</td>\n",
              "      <td>0</td>\n",
              "      <td>0</td>\n",
              "      <td>1</td>\n",
              "      <td>1</td>\n",
              "      <td>0</td>\n",
              "      <td>0</td>\n",
              "      <td>1</td>\n",
              "      <td>0</td>\n",
              "      <td>0</td>\n",
              "      <td>1</td>\n",
              "      <td>0</td>\n",
              "      <td>0</td>\n",
              "      <td>1</td>\n",
              "      <td>0</td>\n",
              "      <td>0</td>\n",
              "      <td>1</td>\n",
              "      <td>0</td>\n",
              "      <td>0</td>\n",
              "      <td>0</td>\n",
              "      <td>1</td>\n",
              "      <td>0</td>\n",
              "      <td>0</td>\n",
              "      <td>1</td>\n",
              "      <td>0</td>\n",
              "    </tr>\n",
              "    <tr>\n",
              "      <th>1</th>\n",
              "      <td>34</td>\n",
              "      <td>56.95</td>\n",
              "      <td>1889.50</td>\n",
              "      <td>0</td>\n",
              "      <td>0</td>\n",
              "      <td>1</td>\n",
              "      <td>1</td>\n",
              "      <td>0</td>\n",
              "      <td>1</td>\n",
              "      <td>0</td>\n",
              "      <td>1</td>\n",
              "      <td>0</td>\n",
              "      <td>0</td>\n",
              "      <td>1</td>\n",
              "      <td>1</td>\n",
              "      <td>0</td>\n",
              "      <td>0</td>\n",
              "      <td>1</td>\n",
              "      <td>0</td>\n",
              "      <td>0</td>\n",
              "      <td>0</td>\n",
              "      <td>0</td>\n",
              "      <td>1</td>\n",
              "      <td>1</td>\n",
              "      <td>0</td>\n",
              "      <td>0</td>\n",
              "      <td>0</td>\n",
              "      <td>0</td>\n",
              "      <td>1</td>\n",
              "      <td>1</td>\n",
              "      <td>0</td>\n",
              "      <td>0</td>\n",
              "      <td>1</td>\n",
              "      <td>0</td>\n",
              "      <td>0</td>\n",
              "      <td>1</td>\n",
              "      <td>0</td>\n",
              "      <td>0</td>\n",
              "      <td>0</td>\n",
              "      <td>1</td>\n",
              "      <td>0</td>\n",
              "      <td>1</td>\n",
              "      <td>0</td>\n",
              "      <td>0</td>\n",
              "      <td>0</td>\n",
              "      <td>0</td>\n",
              "      <td>1</td>\n",
              "    </tr>\n",
              "    <tr>\n",
              "      <th>2</th>\n",
              "      <td>2</td>\n",
              "      <td>53.85</td>\n",
              "      <td>108.15</td>\n",
              "      <td>1</td>\n",
              "      <td>0</td>\n",
              "      <td>1</td>\n",
              "      <td>1</td>\n",
              "      <td>0</td>\n",
              "      <td>1</td>\n",
              "      <td>0</td>\n",
              "      <td>1</td>\n",
              "      <td>0</td>\n",
              "      <td>0</td>\n",
              "      <td>1</td>\n",
              "      <td>1</td>\n",
              "      <td>0</td>\n",
              "      <td>0</td>\n",
              "      <td>1</td>\n",
              "      <td>0</td>\n",
              "      <td>0</td>\n",
              "      <td>0</td>\n",
              "      <td>0</td>\n",
              "      <td>1</td>\n",
              "      <td>0</td>\n",
              "      <td>0</td>\n",
              "      <td>1</td>\n",
              "      <td>1</td>\n",
              "      <td>0</td>\n",
              "      <td>0</td>\n",
              "      <td>1</td>\n",
              "      <td>0</td>\n",
              "      <td>0</td>\n",
              "      <td>1</td>\n",
              "      <td>0</td>\n",
              "      <td>0</td>\n",
              "      <td>1</td>\n",
              "      <td>0</td>\n",
              "      <td>0</td>\n",
              "      <td>1</td>\n",
              "      <td>0</td>\n",
              "      <td>0</td>\n",
              "      <td>0</td>\n",
              "      <td>1</td>\n",
              "      <td>0</td>\n",
              "      <td>0</td>\n",
              "      <td>0</td>\n",
              "      <td>1</td>\n",
              "    </tr>\n",
              "    <tr>\n",
              "      <th>3</th>\n",
              "      <td>45</td>\n",
              "      <td>42.30</td>\n",
              "      <td>1840.75</td>\n",
              "      <td>0</td>\n",
              "      <td>0</td>\n",
              "      <td>1</td>\n",
              "      <td>1</td>\n",
              "      <td>0</td>\n",
              "      <td>1</td>\n",
              "      <td>0</td>\n",
              "      <td>1</td>\n",
              "      <td>0</td>\n",
              "      <td>1</td>\n",
              "      <td>0</td>\n",
              "      <td>0</td>\n",
              "      <td>1</td>\n",
              "      <td>0</td>\n",
              "      <td>1</td>\n",
              "      <td>0</td>\n",
              "      <td>0</td>\n",
              "      <td>0</td>\n",
              "      <td>0</td>\n",
              "      <td>1</td>\n",
              "      <td>1</td>\n",
              "      <td>0</td>\n",
              "      <td>0</td>\n",
              "      <td>0</td>\n",
              "      <td>0</td>\n",
              "      <td>1</td>\n",
              "      <td>0</td>\n",
              "      <td>0</td>\n",
              "      <td>1</td>\n",
              "      <td>1</td>\n",
              "      <td>0</td>\n",
              "      <td>0</td>\n",
              "      <td>1</td>\n",
              "      <td>0</td>\n",
              "      <td>0</td>\n",
              "      <td>0</td>\n",
              "      <td>1</td>\n",
              "      <td>0</td>\n",
              "      <td>1</td>\n",
              "      <td>0</td>\n",
              "      <td>1</td>\n",
              "      <td>0</td>\n",
              "      <td>0</td>\n",
              "      <td>0</td>\n",
              "    </tr>\n",
              "    <tr>\n",
              "      <th>4</th>\n",
              "      <td>2</td>\n",
              "      <td>70.70</td>\n",
              "      <td>151.65</td>\n",
              "      <td>1</td>\n",
              "      <td>1</td>\n",
              "      <td>0</td>\n",
              "      <td>1</td>\n",
              "      <td>0</td>\n",
              "      <td>1</td>\n",
              "      <td>0</td>\n",
              "      <td>1</td>\n",
              "      <td>0</td>\n",
              "      <td>0</td>\n",
              "      <td>1</td>\n",
              "      <td>1</td>\n",
              "      <td>0</td>\n",
              "      <td>0</td>\n",
              "      <td>0</td>\n",
              "      <td>1</td>\n",
              "      <td>0</td>\n",
              "      <td>1</td>\n",
              "      <td>0</td>\n",
              "      <td>0</td>\n",
              "      <td>1</td>\n",
              "      <td>0</td>\n",
              "      <td>0</td>\n",
              "      <td>1</td>\n",
              "      <td>0</td>\n",
              "      <td>0</td>\n",
              "      <td>1</td>\n",
              "      <td>0</td>\n",
              "      <td>0</td>\n",
              "      <td>1</td>\n",
              "      <td>0</td>\n",
              "      <td>0</td>\n",
              "      <td>1</td>\n",
              "      <td>0</td>\n",
              "      <td>0</td>\n",
              "      <td>1</td>\n",
              "      <td>0</td>\n",
              "      <td>0</td>\n",
              "      <td>0</td>\n",
              "      <td>1</td>\n",
              "      <td>0</td>\n",
              "      <td>0</td>\n",
              "      <td>1</td>\n",
              "      <td>0</td>\n",
              "    </tr>\n",
              "  </tbody>\n",
              "</table>\n",
              "</div>"
            ],
            "text/plain": [
              "   tenure  ...  PaymentMethod_Mailed check\n",
              "0       1  ...                           0\n",
              "1      34  ...                           1\n",
              "2       2  ...                           1\n",
              "3      45  ...                           0\n",
              "4       2  ...                           0\n",
              "\n",
              "[5 rows x 47 columns]"
            ]
          },
          "metadata": {
            "tags": []
          },
          "execution_count": 42
        }
      ]
    },
    {
      "cell_type": "code",
      "metadata": {
        "id": "Bymkf98z-BW4",
        "colab_type": "code",
        "colab": {}
      },
      "source": [
        "X = data.drop(\"Churn\", axis= 1)\n",
        "y = data.Churn"
      ],
      "execution_count": 43,
      "outputs": []
    },
    {
      "cell_type": "markdown",
      "metadata": {
        "id": "B43FOLqZi2VC",
        "colab_type": "text"
      },
      "source": [
        "# Create Train and Test dataset"
      ]
    },
    {
      "cell_type": "markdown",
      "metadata": {
        "id": "ajuk-rLPzZdV",
        "colab_type": "text"
      },
      "source": [
        "train set will be used to train our model.\n",
        "\n",
        "Test set will be used to take a mock exam before publishing the model to work on the real world data"
      ]
    },
    {
      "cell_type": "code",
      "metadata": {
        "id": "c7D9k2RlzLvi",
        "colab_type": "code",
        "colab": {}
      },
      "source": [
        "from sklearn.model_selection import train_test_split"
      ],
      "execution_count": 44,
      "outputs": []
    },
    {
      "cell_type": "code",
      "metadata": {
        "id": "if5t7zyC-KQf",
        "colab_type": "code",
        "colab": {}
      },
      "source": [
        "X_train, X_test, y_train, y_test = train_test_split(X, y, test_size= 0.2)"
      ],
      "execution_count": 45,
      "outputs": []
    },
    {
      "cell_type": "code",
      "metadata": {
        "id": "wT0tqQYy-Sv7",
        "colab_type": "code",
        "colab": {
          "base_uri": "https://localhost:8080/",
          "height": 258
        },
        "outputId": "81c83b8e-7ea8-415b-e2eb-66b638edc6ea"
      },
      "source": [
        "X_train.head(5)"
      ],
      "execution_count": 46,
      "outputs": [
        {
          "output_type": "execute_result",
          "data": {
            "text/html": [
              "<div>\n",
              "<style scoped>\n",
              "    .dataframe tbody tr th:only-of-type {\n",
              "        vertical-align: middle;\n",
              "    }\n",
              "\n",
              "    .dataframe tbody tr th {\n",
              "        vertical-align: top;\n",
              "    }\n",
              "\n",
              "    .dataframe thead th {\n",
              "        text-align: right;\n",
              "    }\n",
              "</style>\n",
              "<table border=\"1\" class=\"dataframe\">\n",
              "  <thead>\n",
              "    <tr style=\"text-align: right;\">\n",
              "      <th></th>\n",
              "      <th>tenure</th>\n",
              "      <th>MonthlyCharges</th>\n",
              "      <th>TotalCharges</th>\n",
              "      <th>gender_Female</th>\n",
              "      <th>gender_Male</th>\n",
              "      <th>SeniorCitizen_No</th>\n",
              "      <th>SeniorCitizen_Yes</th>\n",
              "      <th>Partner_No</th>\n",
              "      <th>Partner_Yes</th>\n",
              "      <th>Dependents_No</th>\n",
              "      <th>Dependents_Yes</th>\n",
              "      <th>PhoneService_No</th>\n",
              "      <th>PhoneService_Yes</th>\n",
              "      <th>MultipleLines_No</th>\n",
              "      <th>MultipleLines_No phone service</th>\n",
              "      <th>MultipleLines_Yes</th>\n",
              "      <th>InternetService_DSL</th>\n",
              "      <th>InternetService_Fiber optic</th>\n",
              "      <th>InternetService_No</th>\n",
              "      <th>OnlineSecurity_No</th>\n",
              "      <th>OnlineSecurity_No internet service</th>\n",
              "      <th>OnlineSecurity_Yes</th>\n",
              "      <th>OnlineBackup_No</th>\n",
              "      <th>OnlineBackup_No internet service</th>\n",
              "      <th>OnlineBackup_Yes</th>\n",
              "      <th>DeviceProtection_No</th>\n",
              "      <th>DeviceProtection_No internet service</th>\n",
              "      <th>DeviceProtection_Yes</th>\n",
              "      <th>TechSupport_No</th>\n",
              "      <th>TechSupport_No internet service</th>\n",
              "      <th>TechSupport_Yes</th>\n",
              "      <th>StreamingTV_No</th>\n",
              "      <th>StreamingTV_No internet service</th>\n",
              "      <th>StreamingTV_Yes</th>\n",
              "      <th>StreamingMovies_No</th>\n",
              "      <th>StreamingMovies_No internet service</th>\n",
              "      <th>StreamingMovies_Yes</th>\n",
              "      <th>Contract_Month-to-month</th>\n",
              "      <th>Contract_One year</th>\n",
              "      <th>Contract_Two year</th>\n",
              "      <th>PaperlessBilling_No</th>\n",
              "      <th>PaperlessBilling_Yes</th>\n",
              "      <th>PaymentMethod_Bank transfer (automatic)</th>\n",
              "      <th>PaymentMethod_Credit card (automatic)</th>\n",
              "      <th>PaymentMethod_Electronic check</th>\n",
              "      <th>PaymentMethod_Mailed check</th>\n",
              "    </tr>\n",
              "  </thead>\n",
              "  <tbody>\n",
              "    <tr>\n",
              "      <th>3607</th>\n",
              "      <td>13</td>\n",
              "      <td>55.15</td>\n",
              "      <td>742.90</td>\n",
              "      <td>1</td>\n",
              "      <td>0</td>\n",
              "      <td>1</td>\n",
              "      <td>0</td>\n",
              "      <td>1</td>\n",
              "      <td>0</td>\n",
              "      <td>1</td>\n",
              "      <td>0</td>\n",
              "      <td>0</td>\n",
              "      <td>1</td>\n",
              "      <td>1</td>\n",
              "      <td>0</td>\n",
              "      <td>0</td>\n",
              "      <td>1</td>\n",
              "      <td>0</td>\n",
              "      <td>0</td>\n",
              "      <td>0</td>\n",
              "      <td>0</td>\n",
              "      <td>1</td>\n",
              "      <td>1</td>\n",
              "      <td>0</td>\n",
              "      <td>0</td>\n",
              "      <td>1</td>\n",
              "      <td>0</td>\n",
              "      <td>0</td>\n",
              "      <td>0</td>\n",
              "      <td>0</td>\n",
              "      <td>1</td>\n",
              "      <td>1</td>\n",
              "      <td>0</td>\n",
              "      <td>0</td>\n",
              "      <td>1</td>\n",
              "      <td>0</td>\n",
              "      <td>0</td>\n",
              "      <td>0</td>\n",
              "      <td>1</td>\n",
              "      <td>0</td>\n",
              "      <td>1</td>\n",
              "      <td>0</td>\n",
              "      <td>0</td>\n",
              "      <td>0</td>\n",
              "      <td>0</td>\n",
              "      <td>1</td>\n",
              "    </tr>\n",
              "    <tr>\n",
              "      <th>3360</th>\n",
              "      <td>13</td>\n",
              "      <td>83.20</td>\n",
              "      <td>1060.60</td>\n",
              "      <td>0</td>\n",
              "      <td>1</td>\n",
              "      <td>1</td>\n",
              "      <td>0</td>\n",
              "      <td>1</td>\n",
              "      <td>0</td>\n",
              "      <td>1</td>\n",
              "      <td>0</td>\n",
              "      <td>0</td>\n",
              "      <td>1</td>\n",
              "      <td>1</td>\n",
              "      <td>0</td>\n",
              "      <td>0</td>\n",
              "      <td>0</td>\n",
              "      <td>1</td>\n",
              "      <td>0</td>\n",
              "      <td>1</td>\n",
              "      <td>0</td>\n",
              "      <td>0</td>\n",
              "      <td>1</td>\n",
              "      <td>0</td>\n",
              "      <td>0</td>\n",
              "      <td>0</td>\n",
              "      <td>0</td>\n",
              "      <td>1</td>\n",
              "      <td>1</td>\n",
              "      <td>0</td>\n",
              "      <td>0</td>\n",
              "      <td>0</td>\n",
              "      <td>0</td>\n",
              "      <td>1</td>\n",
              "      <td>1</td>\n",
              "      <td>0</td>\n",
              "      <td>0</td>\n",
              "      <td>1</td>\n",
              "      <td>0</td>\n",
              "      <td>0</td>\n",
              "      <td>0</td>\n",
              "      <td>1</td>\n",
              "      <td>0</td>\n",
              "      <td>0</td>\n",
              "      <td>1</td>\n",
              "      <td>0</td>\n",
              "    </tr>\n",
              "    <tr>\n",
              "      <th>2753</th>\n",
              "      <td>1</td>\n",
              "      <td>95.65</td>\n",
              "      <td>95.65</td>\n",
              "      <td>1</td>\n",
              "      <td>0</td>\n",
              "      <td>1</td>\n",
              "      <td>0</td>\n",
              "      <td>1</td>\n",
              "      <td>0</td>\n",
              "      <td>1</td>\n",
              "      <td>0</td>\n",
              "      <td>0</td>\n",
              "      <td>1</td>\n",
              "      <td>0</td>\n",
              "      <td>0</td>\n",
              "      <td>1</td>\n",
              "      <td>0</td>\n",
              "      <td>1</td>\n",
              "      <td>0</td>\n",
              "      <td>1</td>\n",
              "      <td>0</td>\n",
              "      <td>0</td>\n",
              "      <td>1</td>\n",
              "      <td>0</td>\n",
              "      <td>0</td>\n",
              "      <td>1</td>\n",
              "      <td>0</td>\n",
              "      <td>0</td>\n",
              "      <td>1</td>\n",
              "      <td>0</td>\n",
              "      <td>0</td>\n",
              "      <td>0</td>\n",
              "      <td>0</td>\n",
              "      <td>1</td>\n",
              "      <td>0</td>\n",
              "      <td>0</td>\n",
              "      <td>1</td>\n",
              "      <td>1</td>\n",
              "      <td>0</td>\n",
              "      <td>0</td>\n",
              "      <td>1</td>\n",
              "      <td>0</td>\n",
              "      <td>0</td>\n",
              "      <td>0</td>\n",
              "      <td>0</td>\n",
              "      <td>1</td>\n",
              "    </tr>\n",
              "    <tr>\n",
              "      <th>2773</th>\n",
              "      <td>24</td>\n",
              "      <td>29.10</td>\n",
              "      <td>688.00</td>\n",
              "      <td>0</td>\n",
              "      <td>1</td>\n",
              "      <td>1</td>\n",
              "      <td>0</td>\n",
              "      <td>0</td>\n",
              "      <td>1</td>\n",
              "      <td>1</td>\n",
              "      <td>0</td>\n",
              "      <td>1</td>\n",
              "      <td>0</td>\n",
              "      <td>0</td>\n",
              "      <td>1</td>\n",
              "      <td>0</td>\n",
              "      <td>1</td>\n",
              "      <td>0</td>\n",
              "      <td>0</td>\n",
              "      <td>1</td>\n",
              "      <td>0</td>\n",
              "      <td>0</td>\n",
              "      <td>1</td>\n",
              "      <td>0</td>\n",
              "      <td>0</td>\n",
              "      <td>0</td>\n",
              "      <td>0</td>\n",
              "      <td>1</td>\n",
              "      <td>1</td>\n",
              "      <td>0</td>\n",
              "      <td>0</td>\n",
              "      <td>1</td>\n",
              "      <td>0</td>\n",
              "      <td>0</td>\n",
              "      <td>1</td>\n",
              "      <td>0</td>\n",
              "      <td>0</td>\n",
              "      <td>1</td>\n",
              "      <td>0</td>\n",
              "      <td>0</td>\n",
              "      <td>1</td>\n",
              "      <td>0</td>\n",
              "      <td>0</td>\n",
              "      <td>0</td>\n",
              "      <td>1</td>\n",
              "      <td>0</td>\n",
              "    </tr>\n",
              "    <tr>\n",
              "      <th>1516</th>\n",
              "      <td>17</td>\n",
              "      <td>92.60</td>\n",
              "      <td>1579.70</td>\n",
              "      <td>1</td>\n",
              "      <td>0</td>\n",
              "      <td>1</td>\n",
              "      <td>0</td>\n",
              "      <td>0</td>\n",
              "      <td>1</td>\n",
              "      <td>1</td>\n",
              "      <td>0</td>\n",
              "      <td>0</td>\n",
              "      <td>1</td>\n",
              "      <td>0</td>\n",
              "      <td>0</td>\n",
              "      <td>1</td>\n",
              "      <td>0</td>\n",
              "      <td>1</td>\n",
              "      <td>0</td>\n",
              "      <td>1</td>\n",
              "      <td>0</td>\n",
              "      <td>0</td>\n",
              "      <td>1</td>\n",
              "      <td>0</td>\n",
              "      <td>0</td>\n",
              "      <td>1</td>\n",
              "      <td>0</td>\n",
              "      <td>0</td>\n",
              "      <td>1</td>\n",
              "      <td>0</td>\n",
              "      <td>0</td>\n",
              "      <td>0</td>\n",
              "      <td>0</td>\n",
              "      <td>1</td>\n",
              "      <td>0</td>\n",
              "      <td>0</td>\n",
              "      <td>1</td>\n",
              "      <td>1</td>\n",
              "      <td>0</td>\n",
              "      <td>0</td>\n",
              "      <td>1</td>\n",
              "      <td>0</td>\n",
              "      <td>0</td>\n",
              "      <td>0</td>\n",
              "      <td>1</td>\n",
              "      <td>0</td>\n",
              "    </tr>\n",
              "  </tbody>\n",
              "</table>\n",
              "</div>"
            ],
            "text/plain": [
              "      tenure  ...  PaymentMethod_Mailed check\n",
              "3607      13  ...                           1\n",
              "3360      13  ...                           0\n",
              "2753       1  ...                           1\n",
              "2773      24  ...                           0\n",
              "1516      17  ...                           0\n",
              "\n",
              "[5 rows x 46 columns]"
            ]
          },
          "metadata": {
            "tags": []
          },
          "execution_count": 46
        }
      ]
    },
    {
      "cell_type": "code",
      "metadata": {
        "id": "7YoZdxxrL5SN",
        "colab_type": "code",
        "colab": {
          "base_uri": "https://localhost:8080/",
          "height": 34
        },
        "outputId": "f9a812fc-1800-47df-86dc-87aa5df9cfd9"
      },
      "source": [
        "X_train.shape"
      ],
      "execution_count": 47,
      "outputs": [
        {
          "output_type": "execute_result",
          "data": {
            "text/plain": [
              "(5634, 46)"
            ]
          },
          "metadata": {
            "tags": []
          },
          "execution_count": 47
        }
      ]
    },
    {
      "cell_type": "markdown",
      "metadata": {
        "id": "QYQUSc7WjHi2",
        "colab_type": "text"
      },
      "source": [
        "# Create Model"
      ]
    },
    {
      "cell_type": "markdown",
      "metadata": {
        "id": "7KDkZ16o0ZUx",
        "colab_type": "text"
      },
      "source": [
        "![image.png](data:image/png;base64,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)"
      ]
    },
    {
      "cell_type": "markdown",
      "metadata": {
        "id": "ogMuYfHF2qmc",
        "colab_type": "text"
      },
      "source": [
        "![image.png](data:image/png;base64,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)"
      ]
    },
    {
      "cell_type": "code",
      "metadata": {
        "id": "3tzt1293-v1k",
        "colab_type": "code",
        "colab": {}
      },
      "source": [
        "model = Sequential()\n",
        "model.add(Dense(16, input_dim=X_train.shape[1], activation='relu'))\n",
        "model.add(Dropout(rate=0.2))\n",
        "model.add(Dense(8, activation='relu'))\n",
        "model.add(Dropout(rate=0.2))\n",
        "model.add(Dense(1, activation='sigmoid'))"
      ],
      "execution_count": 48,
      "outputs": []
    },
    {
      "cell_type": "markdown",
      "metadata": {
        "id": "w-jcgLlB4iH_",
        "colab_type": "text"
      },
      "source": [
        "binary_cross_entropy = https://towardsdatascience.com/understanding-binary-cross-entropy-log-loss-a-visual-explanation-a3ac6025181a\n",
        "\n",
        "adam=https://towardsdatascience.com/adam-latest-trends-in-deep-learning-optimization-6be9a291375c"
      ]
    },
    {
      "cell_type": "code",
      "metadata": {
        "id": "yzLzuSJJ-zBv",
        "colab_type": "code",
        "colab": {}
      },
      "source": [
        "model.compile(loss='binary_crossentropy', optimizer='adam', metrics=['accuracy'])"
      ],
      "execution_count": null,
      "outputs": []
    },
    {
      "cell_type": "markdown",
      "metadata": {
        "id": "iu8o69e4jMZJ",
        "colab_type": "text"
      },
      "source": [
        "# Train Model"
      ]
    },
    {
      "cell_type": "code",
      "metadata": {
        "id": "ZIsPh8N-A4Sk",
        "colab_type": "code",
        "colab": {}
      },
      "source": [
        "# Fitting the model for 150 epochs with 10 as batch size\n",
        "history=model.fit(X_train, y_train,validation_data=(X_test, y_test), epochs=150)"
      ],
      "execution_count": null,
      "outputs": []
    },
    {
      "cell_type": "code",
      "metadata": {
        "id": "pKPaTpl6CnLs",
        "colab_type": "code",
        "colab": {}
      },
      "source": [
        "history.history"
      ],
      "execution_count": null,
      "outputs": []
    },
    {
      "cell_type": "code",
      "metadata": {
        "id": "N5XuJwTMAupZ",
        "colab_type": "code",
        "colab": {
          "base_uri": "https://localhost:8080/",
          "height": 295
        },
        "outputId": "0a1030d5-c67c-4f7c-d4d4-9c242a3a6b4e"
      },
      "source": [
        "plt.plot(history.history['accuracy'])\n",
        "plt.plot(history.history['val_accuracy'])\n",
        "plt.title('model accuracy')\n",
        "plt.ylabel('accuracy')\n",
        "plt.xlabel('epoch')\n",
        "plt.legend(['train', 'test'], loc='upper left')\n",
        "plt.show()"
      ],
      "execution_count": null,
      "outputs": [
        {
          "output_type": "display_data",
          "data": {
            "image/png": "[encoded data removed]",
            "text/plain": [
              "<Figure size 432x288 with 1 Axes>"
            ]
          },
          "metadata": {
            "tags": [],
            "needs_background": "light"
          }
        }
      ]
    },
    {
      "cell_type": "code",
      "metadata": {
        "id": "Kwjm3l6lECl9",
        "colab_type": "code",
        "colab": {
          "base_uri": "https://localhost:8080/",
          "height": 295
        },
        "outputId": "353ea94b-dca9-4195-f832-9bbf0108bb83"
      },
      "source": [
        "plt.plot(history.history['loss'])\n",
        "plt.plot(history.history['val_loss'])\n",
        "plt.title('model loss')\n",
        "plt.ylabel('loss')\n",
        "plt.xlabel('epoch')\n",
        "plt.legend(['train', 'test'], loc='upper left')\n",
        "plt.show()"
      ],
      "execution_count": null,
      "outputs": [
        {
          "output_type": "display_data",
          "data": {
            "image/png": "[encoded data removed]",
            "text/plain": [
              "<Figure size 432x288 with 1 Axes>"
            ]
          },
          "metadata": {
            "tags": [],
            "needs_background": "light"
          }
        }
      ]
    },
    {
      "cell_type": "code",
      "metadata": {
        "id": "LA8Lmr9DEnMb",
        "colab_type": "code",
        "colab": {}
      },
      "source": [
        "model.save('my_model.h5')"
      ],
      "execution_count": null,
      "outputs": []
    },
    {
      "cell_type": "markdown",
      "metadata": {
        "id": "o0Rg5z6UjWsI",
        "colab_type": "text"
      },
      "source": [
        "# Use model to prediction"
      ]
    },
    {
      "cell_type": "code",
      "metadata": {
        "id": "1w_6sz0IEr-0",
        "colab_type": "code",
        "colab": {}
      },
      "source": [
        "from keras.models import load_model"
      ],
      "execution_count": null,
      "outputs": []
    },
    {
      "cell_type": "code",
      "metadata": {
        "id": "iac6r6FzK3vY",
        "colab_type": "code",
        "colab": {}
      },
      "source": [
        "model=load_model(\"my_model.h5\")"
      ],
      "execution_count": null,
      "outputs": []
    },
    {
      "cell_type": "code",
      "metadata": {
        "id": "Mk86WX8HLDM5",
        "colab_type": "code",
        "colab": {}
      },
      "source": [
        "prectictions=model.predict(X_test[0:1])"
      ],
      "execution_count": null,
      "outputs": []
    },
    {
      "cell_type": "code",
      "metadata": {
        "id": "xqgOYeuHN9pA",
        "colab_type": "code",
        "colab": {
          "base_uri": "https://localhost:8080/",
          "height": 34
        },
        "outputId": "855f0a3d-6fe7-4fd3-c85a-60753750cd4d"
      },
      "source": [
        "prectictions"
      ],
      "execution_count": null,
      "outputs": [
        {
          "output_type": "execute_result",
          "data": {
            "text/plain": [
              "array([[0.12077566]], dtype=float32)"
            ]
          },
          "metadata": {
            "tags": []
          },
          "execution_count": 63
        }
      ]
    }
  ]
}